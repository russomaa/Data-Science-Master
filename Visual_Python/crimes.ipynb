{
 "cells": [
  {
   "cell_type": "code",
   "execution_count": 2,
   "metadata": {
    "collapsed": true
   },
   "outputs": [],
   "source": [
    "import json\n",
    "import numpy as np\n",
    "import matplotlib.pyplot as plt\n",
    "import pandas as pd"
   ]
  },
  {
   "cell_type": "code",
   "execution_count": 6,
   "metadata": {},
   "outputs": [
    {
     "data": {
      "text/html": [
       "<div>\n",
       "<style>\n",
       "    .dataframe thead tr:only-child th {\n",
       "        text-align: right;\n",
       "    }\n",
       "\n",
       "    .dataframe thead th {\n",
       "        text-align: left;\n",
       "    }\n",
       "\n",
       "    .dataframe tbody tr th {\n",
       "        vertical-align: top;\n",
       "    }\n",
       "</style>\n",
       "<table border=\"1\" class=\"dataframe\">\n",
       "  <thead>\n",
       "    <tr style=\"text-align: right;\">\n",
       "      <th></th>\n",
       "      <th>unit</th>\n",
       "      <th>iccs</th>\n",
       "      <th>country</th>\n",
       "      <th>2012</th>\n",
       "      <th>2011</th>\n",
       "      <th>2010</th>\n",
       "      <th>2009</th>\n",
       "      <th>2008</th>\n",
       "      <th>2007</th>\n",
       "      <th>2006</th>\n",
       "      <th>...</th>\n",
       "      <th>2002</th>\n",
       "      <th>2001</th>\n",
       "      <th>2000</th>\n",
       "      <th>1999</th>\n",
       "      <th>1998</th>\n",
       "      <th>1997</th>\n",
       "      <th>1996</th>\n",
       "      <th>1995</th>\n",
       "      <th>1994</th>\n",
       "      <th>1993</th>\n",
       "    </tr>\n",
       "  </thead>\n",
       "  <tbody>\n",
       "    <tr>\n",
       "      <th>13</th>\n",
       "      <td>NR</td>\n",
       "      <td>DBURG</td>\n",
       "      <td>ES</td>\n",
       "      <td>126422.0</td>\n",
       "      <td>100780.0</td>\n",
       "      <td>111656.0</td>\n",
       "      <td>97834.0</td>\n",
       "      <td>93880.0</td>\n",
       "      <td>72723.0</td>\n",
       "      <td>80981.0</td>\n",
       "      <td>...</td>\n",
       "      <td>93751.0</td>\n",
       "      <td>99066.0</td>\n",
       "      <td>90518.0</td>\n",
       "      <td>91553.0</td>\n",
       "      <td>89428.0</td>\n",
       "      <td>84430.0</td>\n",
       "      <td>80808.0</td>\n",
       "      <td>76610.0</td>\n",
       "      <td>NaN</td>\n",
       "      <td>NaN</td>\n",
       "    </tr>\n",
       "    <tr>\n",
       "      <th>21</th>\n",
       "      <td>NR</td>\n",
       "      <td>DBURG</td>\n",
       "      <td>IT</td>\n",
       "      <td>240846.0</td>\n",
       "      <td>207749.0</td>\n",
       "      <td>171269.0</td>\n",
       "      <td>152804.0</td>\n",
       "      <td>153080.0</td>\n",
       "      <td>169367.0</td>\n",
       "      <td>143726.0</td>\n",
       "      <td>...</td>\n",
       "      <td>169430.0</td>\n",
       "      <td>183496.0</td>\n",
       "      <td>207317.0</td>\n",
       "      <td>234252.0</td>\n",
       "      <td>246804.0</td>\n",
       "      <td>237445.0</td>\n",
       "      <td>230258.0</td>\n",
       "      <td>212477.0</td>\n",
       "      <td>198401.0</td>\n",
       "      <td>192141.0</td>\n",
       "    </tr>\n",
       "    <tr>\n",
       "      <th>62</th>\n",
       "      <td>NR</td>\n",
       "      <td>DRUGT</td>\n",
       "      <td>ES</td>\n",
       "      <td>14509.0</td>\n",
       "      <td>15220.0</td>\n",
       "      <td>14391.0</td>\n",
       "      <td>14343.0</td>\n",
       "      <td>14564.0</td>\n",
       "      <td>14098.0</td>\n",
       "      <td>12711.0</td>\n",
       "      <td>...</td>\n",
       "      <td>12133.0</td>\n",
       "      <td>12160.0</td>\n",
       "      <td>11496.0</td>\n",
       "      <td>12708.0</td>\n",
       "      <td>13985.0</td>\n",
       "      <td>14419.0</td>\n",
       "      <td>15308.0</td>\n",
       "      <td>15119.0</td>\n",
       "      <td>15608.0</td>\n",
       "      <td>NaN</td>\n",
       "    </tr>\n",
       "    <tr>\n",
       "      <th>70</th>\n",
       "      <td>NR</td>\n",
       "      <td>DRUGT</td>\n",
       "      <td>IT</td>\n",
       "      <td>33852.0</td>\n",
       "      <td>34034.0</td>\n",
       "      <td>32761.0</td>\n",
       "      <td>34101.0</td>\n",
       "      <td>34082.0</td>\n",
       "      <td>34439.0</td>\n",
       "      <td>32306.0</td>\n",
       "      <td>...</td>\n",
       "      <td>37965.0</td>\n",
       "      <td>36045.0</td>\n",
       "      <td>34800.0</td>\n",
       "      <td>45038.0</td>\n",
       "      <td>43014.0</td>\n",
       "      <td>41420.0</td>\n",
       "      <td>38954.0</td>\n",
       "      <td>38269.0</td>\n",
       "      <td>38290.0</td>\n",
       "      <td>33310.0</td>\n",
       "    </tr>\n",
       "    <tr>\n",
       "      <th>111</th>\n",
       "      <td>NR</td>\n",
       "      <td>HCIDE</td>\n",
       "      <td>ES</td>\n",
       "      <td>364.0</td>\n",
       "      <td>385.0</td>\n",
       "      <td>401.0</td>\n",
       "      <td>412.0</td>\n",
       "      <td>414.0</td>\n",
       "      <td>482.0</td>\n",
       "      <td>476.0</td>\n",
       "      <td>...</td>\n",
       "      <td>564.0</td>\n",
       "      <td>577.0</td>\n",
       "      <td>553.0</td>\n",
       "      <td>486.0</td>\n",
       "      <td>522.0</td>\n",
       "      <td>463.0</td>\n",
       "      <td>397.0</td>\n",
       "      <td>411.0</td>\n",
       "      <td>429.0</td>\n",
       "      <td>NaN</td>\n",
       "    </tr>\n",
       "  </tbody>\n",
       "</table>\n",
       "<p>5 rows × 23 columns</p>\n",
       "</div>"
      ],
      "text/plain": [
       "    unit   iccs country      2012      2011      2010      2009      2008  \\\n",
       "13    NR  DBURG      ES  126422.0  100780.0  111656.0   97834.0   93880.0   \n",
       "21    NR  DBURG      IT  240846.0  207749.0  171269.0  152804.0  153080.0   \n",
       "62    NR  DRUGT      ES   14509.0   15220.0   14391.0   14343.0   14564.0   \n",
       "70    NR  DRUGT      IT   33852.0   34034.0   32761.0   34101.0   34082.0   \n",
       "111   NR  HCIDE      ES     364.0     385.0     401.0     412.0     414.0   \n",
       "\n",
       "         2007      2006    ...         2002      2001      2000      1999  \\\n",
       "13    72723.0   80981.0    ...      93751.0   99066.0   90518.0   91553.0   \n",
       "21   169367.0  143726.0    ...     169430.0  183496.0  207317.0  234252.0   \n",
       "62    14098.0   12711.0    ...      12133.0   12160.0   11496.0   12708.0   \n",
       "70    34439.0   32306.0    ...      37965.0   36045.0   34800.0   45038.0   \n",
       "111     482.0     476.0    ...        564.0     577.0     553.0     486.0   \n",
       "\n",
       "         1998      1997      1996      1995      1994      1993  \n",
       "13    89428.0   84430.0   80808.0   76610.0       NaN       NaN  \n",
       "21   246804.0  237445.0  230258.0  212477.0  198401.0  192141.0  \n",
       "62    13985.0   14419.0   15308.0   15119.0   15608.0       NaN  \n",
       "70    43014.0   41420.0   38954.0   38269.0   38290.0   33310.0  \n",
       "111     522.0     463.0     397.0     411.0     429.0       NaN  \n",
       "\n",
       "[5 rows x 23 columns]"
      ]
     },
     "execution_count": 6,
     "metadata": {},
     "output_type": "execute_result"
    }
   ],
   "source": [
    "# Crimenes archivados por la policia ... \n",
    "crimes = pd.read_csv('crim_gen.tsv', sep=',', na_values=': ')\n",
    "crimes = crimes[crimes.country.isin(['ES', 'IT'])]\n",
    "crimes.head()"
   ]
  },
  {
   "cell_type": "code",
   "execution_count": 7,
   "metadata": {},
   "outputs": [
    {
     "data": {
      "text/plain": [
       "array([['NR', 'TOTAL', 'ES', 2268867.0, 2285525.0, 2297484.0, 2339203.0,\n",
       "        2396890.0, 2309859.0, 2267114.0, 2230906.0, 2141295.0, 2144155.0,\n",
       "        2183457.0, 2052492.0, 1852858.0, 1895983.0, 1865572.0, 1823330.0,\n",
       "        1770019.0, 1659026.0, 1604190.0, 1544975.0],\n",
       "       ['NR', 'TOTAL', 'IT', 2818834.0, 2763012.0, 2621019.0, 2629831.0,\n",
       "        2709888.0, 2933146.0, 2771490.0, 2579124.0, 2417716.0, 2456887.0,\n",
       "        2231550.0, 2163826.0, 2205782.0, 2373966.0, 2425748.0, 2440754.0,\n",
       "        2422991.0, 2267488.0, 2173448.0, 2259903.0]], dtype=object)"
      ]
     },
     "execution_count": 7,
     "metadata": {},
     "output_type": "execute_result"
    }
   ],
   "source": [
    "total_crimes = crimes.query('iccs == \"TOTAL\"').values\n",
    "total_crimes"
   ]
  },
  {
   "cell_type": "code",
   "execution_count": 7,
   "metadata": {},
   "outputs": [
    {
     "data": {
      "text/plain": [
       "Index(['unit', 'iccs', 'country', '2012', '2011', '2010', '2009', '2008',\n",
       "       '2007', '2006', '2005', '2004', '2003', '2002', '2001', '2000', '1999',\n",
       "       '1998', '1997', '1996', '1995', '1994', '1993'],\n",
       "      dtype='object')"
      ]
     },
     "execution_count": 7,
     "metadata": {},
     "output_type": "execute_result"
    }
   ],
   "source": [
    "crimes.columns"
   ]
  },
  {
   "cell_type": "code",
   "execution_count": 9,
   "metadata": {},
   "outputs": [
    {
     "data": {
      "image/png": "[encoded data removed]",
      "text/plain": [
       "<Figure size 432x288 with 1 Axes>"
      ]
     },
     "metadata": {},
     "output_type": "display_data"
    }
   ],
   "source": [
    "x = np.arange(len(total_crimes[0][3:]))\n",
    "\n",
    "plt.plot(x, total_crimes[0][3:]/1e6)\n",
    "plt.plot(x, total_crimes[1][3:]/1e6)\n",
    "\n",
    "plt.xticks(x, crimes.columns[3:], rotation=40)\n",
    "plt.xlabel('Year')\n",
    "plt.ylabel('Crimes in Spain (millions)')\n",
    "plt.tight_layout()\n",
    "plt.show()"
   ]
  },
  {
   "cell_type": "code",
   "execution_count": 10,
   "metadata": {
    "collapsed": true
   },
   "outputs": [],
   "source": [
    "\n",
    "#crimes = crimes[crimes.country.isin(['IT','ES','DE','FR','NO','FI'])]\n",
    "#total_crimes = crimes.query('iccs == \"TOTAL\"')[['country', '2012']].values\n",
    "#coords = {'IT': (13.007813, 42.553080), 'ES': (-3.867188,39.909736), 'DE': (9.316406,50.736455),'FR': (2.636719, 46.195042), 'NO': (8.613281,61.100789), 'FI': (25.839844, 62.431074)}\n"
   ]
  },
  {
   "cell_type": "code",
   "execution_count": null,
   "metadata": {},
   "outputs": [],
   "source": []
  }
 ],
 "metadata": {
  "kernelspec": {
   "display_name": "Python 3",
   "language": "python",
   "name": "python3"
  },
  "language_info": {
   "codemirror_mode": {
    "name": "ipython",
    "version": 3
   },
   "file_extension": ".py",
   "mimetype": "text/x-python",
   "name": "python",
   "nbconvert_exporter": "python",
   "pygments_lexer": "ipython3",
   "version": "3.7.1"
  }
 },
 "nbformat": 4,
 "nbformat_minor": 2
}

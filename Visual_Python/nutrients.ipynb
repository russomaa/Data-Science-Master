{
 "cells": [
  {
   "cell_type": "code",
   "execution_count": 2,
   "metadata": {},
   "outputs": [],
   "source": [
    "import json\n",
    "import numpy as np\n",
    "import matplotlib.pyplot as plt\n",
    "import pandas as pd\n"
   ]
  },
  {
   "cell_type": "code",
   "execution_count": 3,
   "metadata": {},
   "outputs": [
    {
     "name": "stdout",
     "output_type": "stream",
     "text": [
      "Keys:  dict_keys(['id', 'description', 'tags', 'manufacturer', 'group', 'portions', 'nutrients'])\n",
      "Nutrient 0:  {'value': 25.18, 'units': 'g', 'description': 'Protein', 'group': 'Composition'}\n"
     ]
    }
   ],
   "source": [
    "# The Data Base \n",
    "\"\"\"\n",
    "# ## Example: USDA Food Database\n",
    "{\n",
    "  \"id\": 21441,\n",
    "  \"description\": \"KENTUCKY FRIED CHICKEN, Fried Chicken, EXTRA CRISPY,\n",
    "Wing, meat and skin with breading\",\n",
    "  \"tags\": [\"KFC\"],\n",
    "  \"manufacturer\": \"Kentucky Fried Chicken\",\n",
    "  \"group\": \"Fast Foods\",\n",
    "  \"portions\": [\n",
    "    {\n",
    "      \"amount\": 1,\n",
    "      \"unit\": \"wing, with skin\",\n",
    "      \"grams\": 68.0\n",
    "    },\n",
    "\n",
    "    ...\n",
    "  ],\n",
    "  \"nutrients\": [\n",
    "    {\n",
    "      \"value\": 20.8,\n",
    "      \"units\": \"g\",\n",
    "      \"description\": \"Protein\",\n",
    "      \"group\": \"Composition\"\n",
    "    },\n",
    "\n",
    "    ...\n",
    "  ]\n",
    "}\n",
    "# In[1]:\n",
    "\"\"\"\n",
    "\n",
    "pd.options.display.max_rows = 100\n",
    "db = json.load(open('foods-2011-10-03.json'))\n",
    "\n",
    "print(\"Keys: \", db[0].keys())\n",
    "print(\"Nutrient 0: \",db[0]['nutrients'][0])"
   ]
  },
  {
   "cell_type": "code",
   "execution_count": 4,
   "metadata": {},
   "outputs": [
    {
     "name": "stdout",
     "output_type": "stream",
     "text": [
      "                   description        group units    value\n",
      "0                      Protein  Composition     g    25.18\n",
      "1            Total lipid (fat)  Composition     g    29.20\n",
      "2  Carbohydrate, by difference  Composition     g     3.06\n",
      "3                          Ash        Other     g     3.28\n",
      "4                       Energy       Energy  kcal   376.00\n",
      "5                        Water  Composition     g    39.28\n",
      "6                       Energy       Energy    kJ  1573.00\n",
      "7         Fiber, total dietary  Composition     g     0.00\n",
      "8                  Calcium, Ca     Elements    mg   673.00\n",
      "9                     Iron, Fe     Elements    mg     0.64\n",
      "Info:                                           description                   group  \\\n",
      "0                                    Cheese, caraway  Dairy and Egg Products   \n",
      "1                                    Cheese, cheddar  Dairy and Egg Products   \n",
      "2                                       Cheese, edam  Dairy and Egg Products   \n",
      "3                                       Cheese, feta  Dairy and Egg Products   \n",
      "4                 Cheese, mozzarella, part skim milk  Dairy and Egg Products   \n",
      "5   Cheese, mozzarella, part skim milk, low moisture  Dairy and Egg Products   \n",
      "6                                     Cheese, romano  Dairy and Egg Products   \n",
      "7                                  Cheese, roquefort  Dairy and Egg Products   \n",
      "8  Cheese spread, pasteurized process, american, ...  Dairy and Egg Products   \n",
      "9                        Cream, fluid, half and half  Dairy and Egg Products   \n",
      "\n",
      "     id manufacturer  \n",
      "0  1008               \n",
      "1  1009               \n",
      "2  1018               \n",
      "3  1019               \n",
      "4  1028               \n",
      "5  1029               \n",
      "6  1038               \n",
      "7  1039               \n",
      "8  1048               \n",
      "9  1049               \n",
      "                   description        group units    value    id\n",
      "0                      Protein  Composition     g    25.18  1008\n",
      "1            Total lipid (fat)  Composition     g    29.20  1008\n",
      "2  Carbohydrate, by difference  Composition     g     3.06  1008\n",
      "3                          Ash        Other     g     3.28  1008\n",
      "4                       Energy       Energy  kcal   376.00  1008\n",
      "5                        Water  Composition     g    39.28  1008\n",
      "6                       Energy       Energy    kJ  1573.00  1008\n",
      "7         Fiber, total dietary  Composition     g     0.00  1008\n",
      "8                  Calcium, Ca     Elements    mg   673.00  1008\n",
      "9                     Iron, Fe     Elements    mg     0.64  1008\n"
     ]
    }
   ],
   "source": [
    "\n",
    "# Exploramos los nutrientes \n",
    "nutrients = pd.DataFrame(db[0]['nutrients'])\n",
    "print(nutrients[:10])\n",
    "\n",
    "# Data Frame con la info importante asociada a los nutrientes (se filtra el resto: tags, portions,...)\n",
    "info_keys = ['description', 'group', 'id', 'manufacturer']\n",
    "info = pd.DataFrame(db, columns=info_keys)\n",
    "\n",
    "print(\"Info: \", info[:10])\n",
    "pd.options.display.max_rows = 100\n",
    "pd.value_counts(info.group)\n",
    "\n",
    "# Lista de Data Frame de nutrientes\n",
    "nutrients = []\n",
    "for rec in db:\n",
    "    fnuts = pd.DataFrame(rec['nutrients'])\n",
    "    fnuts['id'] = rec['id']\n",
    "    nutrients.append(fnuts)\n",
    "\n",
    "nutrients = pd.concat(nutrients, ignore_index=True)\n",
    "print(nutrients[:10])\n"
   ]
  },
  {
   "cell_type": "code",
   "execution_count": 5,
   "metadata": {},
   "outputs": [
    {
     "name": "stdout",
     "output_type": "stream",
     "text": [
      "nutrient                 Fatty acids, total saturated\n",
      "nutgroup                                        Other\n",
      "units                                               g\n",
      "value                                           0.072\n",
      "id                                              43546\n",
      "food            Babyfood, banana no tapioca, strained\n",
      "fgroup                                     Baby Foods\n",
      "manufacturer                                     None\n",
      "Name: 375173, dtype: object\n"
     ]
    }
   ],
   "source": [
    "\n",
    "nutrients.duplicated().sum()\n",
    "nutrients = nutrients.drop_duplicates()\n",
    "\n",
    "col_mapping = {'description' : 'food', 'group' : 'fgroup'}\n",
    "info = info.rename(columns=col_mapping, copy=False)\n",
    "col_mapping = {'description' : 'nutrient', 'group' : 'nutgroup'}\n",
    "nutrients = nutrients.rename(columns=col_mapping, copy=False)\n",
    "ndata = pd.merge(nutrients, info, on='id', how='outer')\n",
    "print(ndata.iloc[375173])\n"
   ]
  },
  {
   "cell_type": "code",
   "execution_count": 6,
   "metadata": {},
   "outputs": [
    {
     "data": {
      "image/png": "[encoded data removed]",
      "text/plain": [
       "<Figure size 864x360 with 1 Axes>"
      ]
     },
     "metadata": {
      "needs_background": "light"
     },
     "output_type": "display_data"
    }
   ],
   "source": [
    "\n",
    "plt.figure(figsize=(12,5))\n",
    "result = ndata.groupby(['nutrient', 'fgroup'])['value'].quantile(0.5)\n",
    "#result['Zinc, Zn'].sort_values().plot(kind='barh')\n",
    "result['Calcium, Ca'].sort_values().plot(kind='barh')\n",
    "plt.title(\"Calcium , Ca\")\n",
    "plt.tight_layout(pad=0.3, w_pad=0.1, h_pad=0.1)\n",
    "plt.show()\n"
   ]
  },
  {
   "cell_type": "code",
   "execution_count": null,
   "metadata": {
    "collapsed": true
   },
   "outputs": [],
   "source": []
  }
 ],
 "metadata": {
  "kernelspec": {
   "display_name": "Python 3",
   "language": "python",
   "name": "python3"
  },
  "language_info": {
   "codemirror_mode": {
    "name": "ipython",
    "version": 3
   },
   "file_extension": ".py",
   "mimetype": "text/x-python",
   "name": "python",
   "nbconvert_exporter": "python",
   "pygments_lexer": "ipython3",
   "version": "3.7.1"
  }
 },
 "nbformat": 4,
 "nbformat_minor": 2
}
